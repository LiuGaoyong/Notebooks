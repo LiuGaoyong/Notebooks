{
 "cells": [
  {
   "cell_type": "code",
   "execution_count": 151,
   "metadata": {},
   "outputs": [],
   "source": [
    "%reload_ext line_profiler\n",
    "import sys\n",
    "sys.path.insert(0, \"../jax_geometry/\")"
   ]
  },
  {
   "cell_type": "code",
   "execution_count": 152,
   "metadata": {},
   "outputs": [],
   "source": [
    "from fast_neighborlist_1 import FastPrimitiveNeighborList\n",
    "from ase.build import bulk\n",
    "\n",
    "\n",
    "atoms = bulk('Cu', 'fcc', 3.5) * (2,2,2)\n",
    "\n",
    "\n",
    "nl = FastPrimitiveNeighborList(cutoffs=[2.5]*len(atoms), skin=0.3,\n",
    "                               sorted=False, self_interaction=False,\n",
    "                               bothways=True, use_scaled_positions=False)\n",
    "nl.build(atoms.pbc, atoms.cell, atoms.positions)"
   ]
  },
  {
   "cell_type": "code",
   "execution_count": 153,
   "metadata": {},
   "outputs": [
    {
     "data": {
      "text/plain": [
       "(360, 5)"
      ]
     },
     "execution_count": 153,
     "metadata": {},
     "output_type": "execute_result"
    }
   ],
   "source": [
    "import jax\n",
    "import numpy as np\n",
    "from jax import numpy as jnp\n",
    "import itertools\n",
    "\n",
    "from ase.geometry import minkowski_reduce, wrap_positions\n",
    "from ase.data import covalent_radii as COV_R\n",
    "\n",
    "\n",
    "\n",
    "\n",
    "\n",
    "# @jax.jit\n",
    "def _prod(x, y, dtype=int):\n",
    "    x = jnp.asarray(x, dtype=dtype)\n",
    "    y = jnp.asarray(y, dtype=dtype)\n",
    "    return jnp.append(x,y)\n",
    "\n",
    "\n",
    "r_op = minkowski_reduce(atoms.cell, atoms.pbc)[1]\n",
    "pos, rcell = atoms.positions, r_op @ atoms.cell\n",
    "pos_mksk = wrap_positions(pos, rcell, atoms.pbc, eps=0)\n",
    "offsets = atoms.cell.scaled_positions(pos_mksk - pos).round().astype(int)\n",
    "N = nl._cache.get('N')\n",
    "n123 = np.asarray(list(itertools.product(\n",
    "            range(-N[0], N[0] + 1),\n",
    "            range(-N[1], N[1] + 1),\n",
    "            range(-N[2], N[2] + 1))), dtype=int)\n",
    "# n123 = np.asarray(nl._cache.get('n123'), dtype=int)\n",
    "\n",
    "\n",
    "ijS = jax.vmap(jax.vmap(_prod, in_axes=(0,None)), in_axes=(None, 0))(\n",
    "    jnp.column_stack(jnp.triu_indices(len(pos))), n123).reshape(-1, 5)\n",
    "is_self_interaction = jnp.logical_and(\n",
    "    ijS[:, 0] == ijS[:, 1],\n",
    "    jax.vmap(jnp.allclose, in_axes=(0,None))(\n",
    "        ijS[:, 2:], 0))\n",
    "ijS = ijS[~ is_self_interaction]\n",
    "\n",
    "def is_neighbor_(ijS, rcell, pos, cutoffs):\n",
    "    (i, j), S = ijS[:2], ijS[2:5]\n",
    "    delta = pos[i] + S @ rcell - pos[j]\n",
    "    cutoff = cutoffs[i] + cutoffs[j]\n",
    "    cond = jnp.abs(delta) <= cutoff\n",
    "    return jnp.all(cond)\n",
    "\n",
    "\n",
    "def is_neighbor_tight(ijS, rcell, pos, cutoffs):\n",
    "    (i, j), S = ijS[:2], ijS[2:5]\n",
    "    delta = pos[i] + S @ rcell - pos[j]\n",
    "    cutoff = cutoffs[i] + cutoffs[j]\n",
    "    cond = jnp.linalg.norm(delta) <= cutoff\n",
    "    return jnp.all(cond)\n",
    "\n",
    "is_nb = jax.vmap(is_neighbor_tight, in_axes=(0,None,None,None))(\n",
    "    ijS,\n",
    "    jnp.asarray(rcell),\n",
    "    jnp.asarray(pos_mksk),\n",
    "    jnp.asarray(nl.cutoffs))\n",
    "\n",
    "\n",
    "ijS[is_nb].shape"
   ]
  },
  {
   "cell_type": "code",
   "execution_count": 154,
   "metadata": {},
   "outputs": [
    {
     "data": {
      "text/plain": [
       "array([[1, 0, 0],\n",
       "       [0, 1, 0],\n",
       "       [0, 0, 1]])"
      ]
     },
     "execution_count": 154,
     "metadata": {},
     "output_type": "execute_result"
    }
   ],
   "source": [
    "r_op"
   ]
  },
  {
   "cell_type": "code",
   "execution_count": 155,
   "metadata": {},
   "outputs": [
    {
     "data": {
      "text/plain": [
       "Array([3.5, 3.5, 3.5, 3.5, 3.5], dtype=float32)"
      ]
     },
     "execution_count": 155,
     "metadata": {},
     "output_type": "execute_result"
    }
   ],
   "source": [
    "jnp.repeat(jnp.asarray([3.5]), 5)"
   ]
  },
  {
   "cell_type": "code",
   "execution_count": 156,
   "metadata": {},
   "outputs": [
    {
     "name": "stdout",
     "output_type": "stream",
     "text": [
      "(78, 5)\n"
     ]
    }
   ],
   "source": [
    "from ase.neighborlist import primitive_neighbor_list\n",
    "\n",
    "def f(atoms, cutoffs):\n",
    "    i, j, S = primitive_neighbor_list('ijS', atoms.pbc, atoms.cell,\n",
    "                                      atoms.positions, cutoffs)\n",
    "    return np.column_stack([i, j, S])\n",
    "\n",
    "a1 = f(atoms, nl.cutoffs)\n",
    "a2 = ijS[is_nb]\n",
    "a2 = a2.at[:, 2:].set(a2[:, 2:]@r_op)\n",
    "\n",
    "print(a1[a1[:, 0] == 0].shape)"
   ]
  },
  {
   "cell_type": "code",
   "execution_count": 157,
   "metadata": {},
   "outputs": [
    {
     "data": {
      "text/plain": [
       "(array([-5.25, -5.25,  0.  ]), array([5.25, 5.25, 0.  ]))"
      ]
     },
     "execution_count": 157,
     "metadata": {},
     "output_type": "execute_result"
    }
   ],
   "source": [
    "pos[0] - pos[1] - atoms.cell[-1], pos[1] - pos[0] + atoms.cell[-1]"
   ]
  },
  {
   "cell_type": "code",
   "execution_count": 158,
   "metadata": {},
   "outputs": [
    {
     "name": "stdout",
     "output_type": "stream",
     "text": [
      "(360, 5) (624, 5)\n"
     ]
    }
   ],
   "source": [
    "print(a2.shape, a1.shape)"
   ]
  },
  {
   "cell_type": "code",
   "execution_count": 159,
   "metadata": {},
   "outputs": [
    {
     "data": {
      "text/plain": [
       "(array([2, 3, 4, 5, 6, 0, 0, 2, 3, 4, 5, 6, 6, 6, 6, 6, 7, 7]),\n",
       " array([[ 0,  0,  0],\n",
       "        [ 0,  0,  0],\n",
       "        [ 0,  0,  0],\n",
       "        [ 0,  0,  0],\n",
       "        [ 0,  0,  0],\n",
       "        [ 0,  0,  1],\n",
       "        [ 0,  0,  0],\n",
       "        [ 0, -1,  1],\n",
       "        [ 0, -1,  0],\n",
       "        [-1,  0,  1],\n",
       "        [-1,  0,  0],\n",
       "        [ 0, -1,  1],\n",
       "        [ 0, -1,  0],\n",
       "        [-1,  0,  1],\n",
       "        [-1,  0,  0],\n",
       "        [-1, -1,  1],\n",
       "        [ 0, -1,  0],\n",
       "        [-1,  0,  0]]))"
      ]
     },
     "execution_count": 159,
     "metadata": {},
     "output_type": "execute_result"
    }
   ],
   "source": [
    "from ase.neighborlist import PrimitiveNeighborList\n",
    "nl1 = PrimitiveNeighborList(cutoffs=[1.5]*len(atoms), skin=0.3,\n",
    "                               sorted=False, self_interaction=False,\n",
    "                               bothways=True, use_scaled_positions=False)\n",
    "nl1.build(atoms.pbc, atoms.cell, atoms.positions)\n",
    "nl1.get_neighbors(1)"
   ]
  }
 ],
 "metadata": {
  "kernelspec": {
   "display_name": "Python 3 (ipykernel)",
   "language": "python",
   "name": "python3"
  },
  "language_info": {
   "codemirror_mode": {
    "name": "ipython",
    "version": 3
   },
   "file_extension": ".py",
   "mimetype": "text/x-python",
   "name": "python",
   "nbconvert_exporter": "python",
   "pygments_lexer": "ipython3",
   "version": "3.11.5"
  }
 },
 "nbformat": 4,
 "nbformat_minor": 4
}
