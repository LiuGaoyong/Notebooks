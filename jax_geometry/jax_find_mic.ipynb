{
 "cells": [
  {
   "cell_type": "code",
   "execution_count": 47,
   "metadata": {},
   "outputs": [],
   "source": [
    "import os\n",
    "import jax\n",
    "\n",
    "DEFAULT_PLATFORM = 'cpu'\n",
    "DEFAULT_CORE_NUM = os.cpu_count()\n",
    "\n",
    "jax.config.update(\"jax_enable_x64\", True)\n",
    "jax.config.update('jax_platform_name', DEFAULT_PLATFORM)\n",
    "os.environ['XLA_FLAGS'] = '--{:s}={:d}'.format(\n",
    "    \"xla_force_host_platform_device_count\",\n",
    "    DEFAULT_CORE_NUM\n",
    ")\n"
   ]
  },
  {
   "cell_type": "markdown",
   "metadata": {},
   "source": [
    "## pbc2pbc\n"
   ]
  },
  {
   "cell_type": "code",
   "execution_count": 48,
   "metadata": {},
   "outputs": [
    {
     "name": "stdout",
     "output_type": "stream",
     "text": [
      "1.45 ms ± 6.98 µs per loop (mean ± std. dev. of 7 runs, 1,000 loops each)\n",
      "20.3 µs ± 10.8 µs per loop (mean ± std. dev. of 7 runs, 1,000 loops each)\n"
     ]
    }
   ],
   "source": [
    "from jax import numpy as jnp\n",
    "\n",
    "\n",
    "def _pbc2pbc(pbc):\n",
    "    result = jnp.zeros(3, dtype=bool)\n",
    "    return result.at[:].set(pbc)\n",
    "\n",
    "\n",
    "pbc2pbc = jax.jit(_pbc2pbc)\n",
    "\n",
    "\n",
    "%timeit  _pbc2pbc([False, True, False])\n",
    "%timeit  pbc2pbc([False, True, False])\n"
   ]
  },
  {
   "cell_type": "markdown",
   "metadata": {},
   "source": [
    "## fractional <---> cartesian\n"
   ]
  },
  {
   "cell_type": "code",
   "execution_count": 49,
   "metadata": {},
   "outputs": [],
   "source": [
    "import jax\n",
    "import numpy as np\n"
   ]
  },
  {
   "cell_type": "code",
   "execution_count": 58,
   "metadata": {},
   "outputs": [
    {
     "name": "stdout",
     "output_type": "stream",
     "text": [
      "264 µs ± 7.11 µs per loop (mean ± std. dev. of 7 runs, 1,000 loops each)\n",
      "31 µs ± 18.4 µs per loop (mean ± std. dev. of 7 runs, 1,000 loops each)\n"
     ]
    }
   ],
   "source": [
    "def _frc2car(f, cell):\n",
    "    \"\"\"Calculate Cartesian positions from scaled positions.\"\"\"\n",
    "    return jnp.asarray(f) @ jnp.asarray(cell)\n",
    "\n",
    "\n",
    "frc2car = jax.jit(_frc2car)\n",
    "\n",
    "\n",
    "a = jnp.asarray(np.random.rand(3))\n",
    "b = jnp.asarray(np.random.rand(2, 3))\n",
    "cell = jnp.asarray(np.identity(3) * 5)\n",
    "\n",
    "\n",
    "%timeit  _frc2car(a, cell), _frc2car(b, cell)\n",
    "%timeit  frc2car(a, cell), frc2car(b, cell)\n"
   ]
  },
  {
   "cell_type": "code",
   "execution_count": 59,
   "metadata": {},
   "outputs": [
    {
     "name": "stdout",
     "output_type": "stream",
     "text": [
      "599 µs ± 2.22 µs per loop (mean ± std. dev. of 7 runs, 1,000 loops each)\n",
      "49.5 µs ± 15.7 µs per loop (mean ± std. dev. of 7 runs, 1 loop each)\n"
     ]
    }
   ],
   "source": [
    "def _car2frc(v, cell):\n",
    "    \"\"\"Calculate scaled positions from Cartesian positions.\"\"\"\n",
    "    return jnp.linalg.solve(\n",
    "        jnp.transpose(cell),\n",
    "        jnp.transpose(v)\n",
    "    ).transpose()\n",
    "\n",
    "\n",
    "car2frc = jax.jit(_car2frc)\n",
    "\n",
    "\n",
    "a = jnp.asarray(np.random.rand(3))\n",
    "b = jnp.asarray(np.random.rand(2, 3))\n",
    "cell = jnp.asarray(np.identity(3) * 5)\n",
    "a_ = a @ cell\n",
    "b_ = b @ cell\n",
    "\n",
    "\n",
    "%timeit _car2frc(a, cell), _car2frc(b, cell)\n",
    "%timeit  car2frc(a, cell), car2frc(b, cell)\n"
   ]
  },
  {
   "cell_type": "code",
   "execution_count": 60,
   "metadata": {},
   "outputs": [
    {
     "name": "stdout",
     "output_type": "stream",
     "text": [
      "[ True  True  True]\n",
      "[[ True  True  True]\n",
      " [ True  True  True]]\n"
     ]
    }
   ],
   "source": [
    "a = jnp.asarray(np.random.rand(3))\n",
    "b = jnp.asarray(np.random.rand(2, 3))\n",
    "cell = jnp.asarray(np.identity(3) * 5)\n",
    "a_ = a @ cell\n",
    "b_ = b @ cell\n",
    "\n",
    "print(car2frc(a_, cell) - a < 1e-15)\n",
    "print(car2frc(b_, cell) - b < 1e-15)\n"
   ]
  },
  {
   "cell_type": "markdown",
   "metadata": {},
   "source": [
    "## cell & pbc class\n",
    "\n",
    "根据不同的 cell 和 pbc 情况返回不同的 jit 函数\n"
   ]
  },
  {
   "cell_type": "code",
   "execution_count": 170,
   "metadata": {},
   "outputs": [],
   "source": [
    "import itertools\n",
    "from functools import partial\n",
    "from typing import Callable\n",
    "\n",
    "from ase.geometry import minkowski_reduce\n",
    "from ase.geometry.cell import complete_cell\n",
    "from ase.cell import Cell\n",
    "\n",
    "\n",
    "@jax.jit\n",
    "def fn_mic_nopbc(v, cell):\n",
    "    return v\n",
    "\n",
    "\n",
    "@jax.jit\n",
    "def fn_mic_naive(v, cell):\n",
    "    \"\"\"Finds the minimum-image representation of vector(s) v.\n",
    "\n",
    "    Safe to use for (pbc.all() and (norm(v_mic) < 0.5 * min(cell.lengths()))).\n",
    "    Can otherwise fail for non-orthorhombic cells.\n",
    "    Described in:\n",
    "    W. Smith, \"The Minimum Image Convention in Non-Cubic MD Cells\", 1989,\n",
    "    http://citeseerx.ist.psu.edu/viewdoc/summary?doi=10.1.1.57.1696.\n",
    "    \"\"\"\n",
    "    frac = car2frc(v, cell)\n",
    "    frac = frac - jnp.floor(frac + 0.5)\n",
    "    return frac @ cell\n",
    "\n",
    "\n",
    "@jax.jit\n",
    "def wrap_positions(v, cell, pbc=True):\n",
    "    frac = car2frc(jnp.asarray(v), jnp.asarray(cell))\n",
    "    frac_wrapped = jnp.where(pbc2pbc(pbc), frac % 1.0, frac)\n",
    "    return frac_wrapped @ jnp.asarray(cell)\n",
    "\n",
    "\n",
    "@jax.jit\n",
    "def fn_mic_general(v, cell, pbc, hkls, r_op):\n",
    "    v = jnp.asarray(v, dtype=float)\n",
    "    cell = jnp.asarray(cell, dtype=float)\n",
    "    r_op = jnp.asarray(r_op, dtype=float)\n",
    "    hkls = jnp.asarray(hkls, dtype=float)\n",
    "\n",
    "    rcell = r_op @ cell\n",
    "    vrvecs = hkls @ rcell\n",
    "    v = wrap_positions(v, rcell, pbc=pbc)\n",
    "\n",
    "    if v.ndim == 1:\n",
    "        x = v + vrvecs\n",
    "        lengths = jnp.linalg.norm(x, axis=1)\n",
    "        indices = jnp.argmin(lengths, axis=0)\n",
    "        return x[indices, :]\n",
    "    elif v.ndim == 2:\n",
    "        x = v + vrvecs[:, None]\n",
    "        lengths = jnp.linalg.norm(x, axis=2)\n",
    "        indices = jnp.argmin(lengths, axis=0)\n",
    "        return x[indices, jnp.arange(len(v)), :]\n",
    "    else:\n",
    "        raise KeyError(\"v.ndim must <= 2.\")\n",
    "\n",
    "\n",
    "class CellWithPBC:\n",
    "\n",
    "    def __init__(self, cell=None, pbc=None,\n",
    "                 cell_as_param: bool = False):\n",
    "        self.pbc = pbc2pbc(pbc if pbc else False)\n",
    "        self._cell_as_param = cell_as_param\n",
    "        self._cell = Cell.new(cell)\n",
    "\n",
    "    def __repr__(self):\n",
    "        if self._cell.orthorhombic:\n",
    "            numbers = self._cell.lengths().tolist()\n",
    "        else:\n",
    "            numbers = self._cell.tolist()\n",
    "        return 'Cell({})'.format(numbers)\n",
    "\n",
    "    @property\n",
    "    def fn_mic(self) -> Callable:\n",
    "        cell = jnp.asarray(self._cell.array)\n",
    "        dim = jnp.sum(self._cell.any(1) & self.pbc)\n",
    "        if dim == 0:\n",
    "            func = fn_mic_nopbc\n",
    "        elif dim == 3 and self._cell.orthorhombic:\n",
    "            func = fn_mic_naive\n",
    "        else:\n",
    "            pbc = self.pbc.tolist()\n",
    "            cell = complete_cell(self._cell)\n",
    "            r_op = minkowski_reduce(cell, pbc)[1]\n",
    "            r_op = jnp.asarray(r_op, dtype=float)\n",
    "            ranges = [np.arange(-1 * p, p + 1) for p in pbc]\n",
    "            hkls = [(0, 0, 0)] + list(itertools.product(*ranges))\n",
    "            hkls = jnp.asarray(hkls, dtype=float)\n",
    "            func = partial(fn_mic_general, pbc=self.pbc,\n",
    "                           hkls=hkls, r_op=r_op)\n",
    "        if not self._cell_as_param:\n",
    "            cell = jnp.asarray(cell, dtype=float)\n",
    "            return partial(func, cell=cell)\n",
    "        else:\n",
    "            return func"
   ]
  },
  {
   "cell_type": "code",
   "execution_count": 175,
   "metadata": {},
   "outputs": [],
   "source": [
    "from ase.geometry import find_mic\n",
    "\n",
    "\n",
    "for pbc in (True, [True, False, True], False):\n",
    "    cell = np.random.rand(3, 3)\n",
    "    v = np.random.rand(5, 3)\n",
    "\n",
    "    mic_1 = find_mic(v, cell, pbc)[0]\n",
    "    mic_2 = CellWithPBC(cell, pbc, False).fn_mic(v)\n",
    "    assert np.allclose(mic_1, mic_2)\n",
    "\n",
    "    f = CellWithPBC(cell, pbc, True).fn_mic\n",
    "    assert np.allclose(mic_1, f(v, cell))\n",
    "\n",
    "    def ff(v, cell):\n",
    "        return jnp.sum(f(v, cell))\n",
    "    ff = jax.jit(ff)\n",
    "    jax.jacfwd(ff, argnums=1)(v, cell)"
   ]
  }
 ],
 "metadata": {
  "kernelspec": {
   "display_name": "base",
   "language": "python",
   "name": "python3"
  },
  "language_info": {
   "codemirror_mode": {
    "name": "ipython",
    "version": 3
   },
   "file_extension": ".py",
   "mimetype": "text/x-python",
   "name": "python",
   "nbconvert_exporter": "python",
   "pygments_lexer": "ipython3",
   "version": "3.11.5"
  },
  "orig_nbformat": 4
 },
 "nbformat": 4,
 "nbformat_minor": 2
}
