{
 "cells": [
  {
   "cell_type": "markdown",
   "metadata": {},
   "source": [
    "## fractional <---> cartesian\n"
   ]
  },
  {
   "cell_type": "code",
   "execution_count": 2,
   "metadata": {},
   "outputs": [
    {
     "name": "stdout",
     "output_type": "stream",
     "text": [
      "21.2 µs ± 27.9 ns per loop (mean ± std. dev. of 7 runs, 10,000 loops each)\n",
      "58.2 µs ± 37.1 µs per loop (mean ± std. dev. of 7 runs, 1 loop each)\n"
     ]
    }
   ],
   "source": [
    "from jax_find_mic import np, jnp, frc2car, car2frc\n",
    "\n",
    "a = jnp.asarray(np.random.rand(3))\n",
    "b = jnp.asarray(np.random.rand(2, 3))\n",
    "cell = jnp.asarray(np.identity(3) * 5)\n",
    "\n",
    "\n",
    "%timeit  frc2car(a, cell), frc2car(b, cell)\n",
    "%timeit  car2frc(a, cell), car2frc(b, cell)\n"
   ]
  },
  {
   "cell_type": "code",
   "execution_count": 3,
   "metadata": {},
   "outputs": [
    {
     "name": "stdout",
     "output_type": "stream",
     "text": [
      "[ True  True  True]\n",
      "[[ True  True  True]\n",
      " [ True  True  True]]\n"
     ]
    }
   ],
   "source": [
    "a = jnp.asarray(np.random.rand(3))\n",
    "b = jnp.asarray(np.random.rand(2, 3))\n",
    "cell = jnp.asarray(np.identity(3) * 5)\n",
    "a_ = a @ cell\n",
    "b_ = b @ cell\n",
    "\n",
    "print(car2frc(a_, cell) - a < 1e-15)\n",
    "print(car2frc(b_, cell) - b < 1e-15)"
   ]
  },
  {
   "cell_type": "markdown",
   "metadata": {},
   "source": [
    "## cell & pbc class\n",
    "\n",
    "根据不同的 cell 和 pbc 情况返回不同的 jit 函数\n"
   ]
  },
  {
   "cell_type": "code",
   "execution_count": 4,
   "metadata": {},
   "outputs": [],
   "source": [
    "from jax_find_mic import np, jnp, jax, CellWithPBC\n"
   ]
  },
  {
   "cell_type": "code",
   "execution_count": 5,
   "metadata": {},
   "outputs": [
    {
     "ename": "IndexError",
     "evalue": "list index out of range",
     "output_type": "error",
     "traceback": [
      "\u001b[0;31m---------------------------------------------------------------------------\u001b[0m",
      "\u001b[0;31mIndexError\u001b[0m                                Traceback (most recent call last)",
      "\u001b[1;32m/data/lgy/Sync/GitHub/ZZZ/Notebooks/type_check_decorator/jax_find_mic.ipynb 单元格 6\u001b[0m line \u001b[0;36m9\n\u001b[1;32m      <a href='vscode-notebook-cell://ssh-remote%2Bedison1234-lgy/data/lgy/Sync/GitHub/ZZZ/Notebooks/type_check_decorator/jax_find_mic.ipynb#X13sdnNjb2RlLXJlbW90ZQ%3D%3D?line=5'>6</a>\u001b[0m v \u001b[39m=\u001b[39m np\u001b[39m.\u001b[39mrandom\u001b[39m.\u001b[39mrand(\u001b[39m5\u001b[39m, \u001b[39m3\u001b[39m)\n\u001b[1;32m      <a href='vscode-notebook-cell://ssh-remote%2Bedison1234-lgy/data/lgy/Sync/GitHub/ZZZ/Notebooks/type_check_decorator/jax_find_mic.ipynb#X13sdnNjb2RlLXJlbW90ZQ%3D%3D?line=7'>8</a>\u001b[0m mic_1 \u001b[39m=\u001b[39m find_mic(v, cell, pbc)[\u001b[39m0\u001b[39m]\n\u001b[0;32m----> <a href='vscode-notebook-cell://ssh-remote%2Bedison1234-lgy/data/lgy/Sync/GitHub/ZZZ/Notebooks/type_check_decorator/jax_find_mic.ipynb#X13sdnNjb2RlLXJlbW90ZQ%3D%3D?line=8'>9</a>\u001b[0m mic_2 \u001b[39m=\u001b[39m CellWithPBC(cell, pbc, \u001b[39mFalse\u001b[39;49;00m)\u001b[39m.\u001b[39;49mfn_mic(v)\n\u001b[1;32m     <a href='vscode-notebook-cell://ssh-remote%2Bedison1234-lgy/data/lgy/Sync/GitHub/ZZZ/Notebooks/type_check_decorator/jax_find_mic.ipynb#X13sdnNjb2RlLXJlbW90ZQ%3D%3D?line=9'>10</a>\u001b[0m \u001b[39massert\u001b[39;00m np\u001b[39m.\u001b[39mallclose(mic_1, mic_2)\n\u001b[1;32m     <a href='vscode-notebook-cell://ssh-remote%2Bedison1234-lgy/data/lgy/Sync/GitHub/ZZZ/Notebooks/type_check_decorator/jax_find_mic.ipynb#X13sdnNjb2RlLXJlbW90ZQ%3D%3D?line=11'>12</a>\u001b[0m f \u001b[39m=\u001b[39m CellWithPBC(cell, pbc, \u001b[39mTrue\u001b[39;00m)\u001b[39m.\u001b[39mfn_mic\n",
      "    \u001b[0;31m[... skipping hidden 12 frame]\u001b[0m\n",
      "File \u001b[0;32m/data/lgy/Sync/GitHub/ZZZ/Notebooks/type_check_decorator/jax_find_mic.py:85\u001b[0m, in \u001b[0;36mconvert_to_jax.<locals>.decorator.<locals>.wrapper\u001b[0;34m(*args, **kwargs)\u001b[0m\n\u001b[1;32m     83\u001b[0m \u001b[39mfor\u001b[39;00m i, name \u001b[39min\u001b[39;00m \u001b[39menumerate\u001b[39m(posargnames):\n\u001b[1;32m     84\u001b[0m     \u001b[39mif\u001b[39;00m name \u001b[39min\u001b[39;00m input_names:\n\u001b[0;32m---> 85\u001b[0m         args[i] \u001b[39m=\u001b[39m f(args[i], name\u001b[39m=\u001b[39mname,\n\u001b[1;32m     86\u001b[0m                     i\u001b[39m=\u001b[39minput_names\u001b[39m.\u001b[39mindex(name))\n\u001b[1;32m     87\u001b[0m \u001b[39mfor\u001b[39;00m k \u001b[39min\u001b[39;00m kwargs\u001b[39m.\u001b[39mkeys():\n\u001b[1;32m     88\u001b[0m     \u001b[39mif\u001b[39;00m name \u001b[39min\u001b[39;00m input_names:\n",
      "\u001b[0;31mIndexError\u001b[0m: list index out of range"
     ]
    }
   ],
   "source": [
    "from ase.geometry import find_mic\n",
    "\n",
    "\n",
    "for pbc in (True, [True, False, True], False):\n",
    "    cell = np.random.rand(3, 3)\n",
    "    v = np.random.rand(5, 3)\n",
    "\n",
    "    mic_1 = find_mic(v, cell, pbc)[0]\n",
    "    mic_2 = CellWithPBC(cell, pbc, False).fn_mic(v)\n",
    "    assert np.allclose(mic_1, mic_2)\n",
    "\n",
    "    f = CellWithPBC(cell, pbc, True).fn_mic\n",
    "    assert np.allclose(mic_1, f(v, cell))\n",
    "\n",
    "    def ff(v, cell):\n",
    "        return jnp.sum(f(v, cell))\n",
    "    ff = jax.jit(ff)\n",
    "    jax.jacfwd(ff, argnums=1)(v, cell)\n"
   ]
  }
 ],
 "metadata": {
  "kernelspec": {
   "display_name": "base",
   "language": "python",
   "name": "python3"
  },
  "language_info": {
   "codemirror_mode": {
    "name": "ipython",
    "version": 3
   },
   "file_extension": ".py",
   "mimetype": "text/x-python",
   "name": "python",
   "nbconvert_exporter": "python",
   "pygments_lexer": "ipython3",
   "version": "3.11.5"
  },
  "orig_nbformat": 4
 },
 "nbformat": 4,
 "nbformat_minor": 2
}
