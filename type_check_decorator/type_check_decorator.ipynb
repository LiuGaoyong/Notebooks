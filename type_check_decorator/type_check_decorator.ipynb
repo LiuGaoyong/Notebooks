{
 "cells": [
  {
   "cell_type": "code",
   "execution_count": 27,
   "metadata": {},
   "outputs": [
    {
     "data": {
      "text/plain": [
       "((1,), (3,), (1,))"
      ]
     },
     "execution_count": 27,
     "metadata": {},
     "output_type": "execute_result"
    }
   ],
   "source": [
    "import functools\n",
    "from typing import Callable\n",
    "\n",
    "import numpy as np\n",
    "\n",
    "\n",
    "def convert_ndarray(*input_names, **options):\n",
    "    dtype = options.get(\"dtype\", float)\n",
    "    fn_asarray: Callable = options.get(\"fn_asarray\", np.asarray)\n",
    "\n",
    "    def asarray(x):\n",
    "        return fn_asarray(x, dtype=dtype)\n",
    "\n",
    "    def decorator(func):\n",
    "        code = func.__code__\n",
    "        argnames = code.co_varnames\n",
    "        ndefaults = len(func.__defaults__) if func.__defaults__ else 0\n",
    "        nposargs = code.co_argcount - ndefaults\n",
    "        posargnames = argnames[:nposargs]\n",
    "        for name in input_names:\n",
    "            if name not in argnames:\n",
    "                raise ValueError(\"In decorator convert_to_numpy(): Name '{}' \"\n",
    "                                 \"doesn't correspond to any positional \"\n",
    "                                 \"argument of the decorated function {}().\"\n",
    "                                 \"\".format(name, func.__name__))\n",
    "\n",
    "        @functools.wraps(func)\n",
    "        def wrapper(*args, **kwargs):\n",
    "            args = list(args)\n",
    "            for i, name in enumerate(posargnames):\n",
    "                if name in input_names:\n",
    "                    args[i] = asarray(args[i])\n",
    "            for k in kwargs.keys():\n",
    "                if name in input_names:\n",
    "                    kwargs[k] = asarray(kwargs[i])\n",
    "            return func(*args, **kwargs)\n",
    "        return wrapper\n",
    "    return decorator\n",
    "\n",
    "\n",
    "@convert_ndarray('cell', 'a')\n",
    "def f(cell, a, b=np.array([1, ])):\n",
    "    return cell.shape, a.shape, b.shape\n",
    "\n",
    "\n",
    "f([1, ], [1, 2, 3], np.random.rand(3), )\n",
    "f([1, ], [1, 2, 3])\n",
    "# f([1, ], [1, 2, 3], [1, 2], )"
   ]
  },
  {
   "cell_type": "code",
   "execution_count": 5,
   "metadata": {},
   "outputs": [
    {
     "name": "stdout",
     "output_type": "stream",
     "text": [
      "1\n",
      "1\n",
      "1\n",
      "1\n",
      "y 1\n"
     ]
    }
   ],
   "source": [
    "def f(*x, y=1):\n",
    "    for i in x:\n",
    "        print(i)\n",
    "    print(\"y\", y)\n",
    "\n",
    "\n",
    "f(1, 1, 1, 1)\n"
   ]
  },
  {
   "cell_type": "code",
   "execution_count": 32,
   "metadata": {},
   "outputs": [
    {
     "data": {
      "text/plain": [
       "((1,), (3,), (3,))"
      ]
     },
     "execution_count": 32,
     "metadata": {},
     "output_type": "execute_result"
    }
   ],
   "source": [
    "from jax import numpy as jnp\n",
    "import jax\n",
    "\n",
    "\n",
    "def f(cell, a, b=np.array([1, ])):\n",
    "    return cell.shape, a.shape, b.shape\n",
    "\n",
    "\n",
    "f1 = convert_ndarray('cell', 'a', 'b', fn_asarray=jnp.asarray)(f)\n",
    "\n",
    "f1([1, ], [1, 2, 3], np.random.rand(3), )\n"
   ]
  },
  {
   "cell_type": "code",
   "execution_count": 33,
   "metadata": {},
   "outputs": [
    {
     "data": {
      "text/plain": [
       "{ \u001b[34m\u001b[22m\u001b[1mlambda \u001b[39m\u001b[22m\u001b[22m; a\u001b[35m:i32[]\u001b[39m b\u001b[35m:i32[]\u001b[39m c\u001b[35m:i32[]\u001b[39m d\u001b[35m:i32[]\u001b[39m e\u001b[35m:f32[3]\u001b[39m. \u001b[34m\u001b[22m\u001b[1mlet\n",
       "    \u001b[39m\u001b[22m\u001b[22mf\u001b[35m:f32[]\u001b[39m = convert_element_type[new_dtype=float32 weak_type=False] a\n",
       "    _\u001b[35m:f32[1]\u001b[39m = broadcast_in_dim[broadcast_dimensions=() shape=(1,)] f\n",
       "    g\u001b[35m:f32[]\u001b[39m = convert_element_type[new_dtype=float32 weak_type=False] b\n",
       "    h\u001b[35m:f32[]\u001b[39m = convert_element_type[new_dtype=float32 weak_type=False] c\n",
       "    i\u001b[35m:f32[]\u001b[39m = convert_element_type[new_dtype=float32 weak_type=False] d\n",
       "    j\u001b[35m:f32[1]\u001b[39m = broadcast_in_dim[broadcast_dimensions=() shape=(1,)] g\n",
       "    k\u001b[35m:f32[1]\u001b[39m = broadcast_in_dim[broadcast_dimensions=() shape=(1,)] h\n",
       "    l\u001b[35m:f32[1]\u001b[39m = broadcast_in_dim[broadcast_dimensions=() shape=(1,)] i\n",
       "    _\u001b[35m:f32[3]\u001b[39m = concatenate[dimension=0] j k l\n",
       "  \u001b[34m\u001b[22m\u001b[1min \u001b[39m\u001b[22m\u001b[22m(1, 3, 3) }"
      ]
     },
     "execution_count": 33,
     "metadata": {},
     "output_type": "execute_result"
    }
   ],
   "source": [
    "jax.make_jaxpr(f1)([1, ], [1, 2, 3], np.random.rand(3), )\n"
   ]
  },
  {
   "cell_type": "code",
   "execution_count": 39,
   "metadata": {},
   "outputs": [
    {
     "data": {
      "text/plain": [
       "{ \u001b[34m\u001b[22m\u001b[1mlambda \u001b[39m\u001b[22m\u001b[22m; a\u001b[35m:i32[]\u001b[39m b\u001b[35m:i32[]\u001b[39m c\u001b[35m:i32[]\u001b[39m d\u001b[35m:i32[]\u001b[39m e\u001b[35m:f32[3]\u001b[39m. \u001b[34m\u001b[22m\u001b[1mlet\n",
       "    \u001b[39m\u001b[22m\u001b[22mf\u001b[35m:f32[]\u001b[39m = convert_element_type[new_dtype=float32 weak_type=False] a\n",
       "    _\u001b[35m:f32[1]\u001b[39m = broadcast_in_dim[broadcast_dimensions=() shape=(1,)] f\n",
       "    g\u001b[35m:f32[]\u001b[39m = convert_element_type[new_dtype=float32 weak_type=False] b\n",
       "    h\u001b[35m:f32[]\u001b[39m = convert_element_type[new_dtype=float32 weak_type=False] c\n",
       "    i\u001b[35m:f32[]\u001b[39m = convert_element_type[new_dtype=float32 weak_type=False] d\n",
       "    j\u001b[35m:f32[1]\u001b[39m = broadcast_in_dim[broadcast_dimensions=() shape=(1,)] g\n",
       "    k\u001b[35m:f32[1]\u001b[39m = broadcast_in_dim[broadcast_dimensions=() shape=(1,)] h\n",
       "    l\u001b[35m:f32[1]\u001b[39m = broadcast_in_dim[broadcast_dimensions=() shape=(1,)] i\n",
       "    _\u001b[35m:f32[3]\u001b[39m = concatenate[dimension=0] j k l\n",
       "  \u001b[34m\u001b[22m\u001b[1min \u001b[39m\u001b[22m\u001b[22m(1, 3, 3) }"
      ]
     },
     "execution_count": 39,
     "metadata": {},
     "output_type": "execute_result"
    }
   ],
   "source": [
    "def func(cell, a, b=jnp.array([1, ])):\n",
    "    cell = jnp.asarray(cell, dtype=float)\n",
    "    a = jnp.asarray(a, dtype=float)\n",
    "    b = jnp.asarray(b, dtype=float)\n",
    "    return cell.shape, a.shape, b.shape\n",
    "\n",
    "\n",
    "jax.make_jaxpr(func)([1, ], [1, 2, 3], np.random.rand(3), )\n"
   ]
  },
  {
   "cell_type": "code",
   "execution_count": 6,
   "metadata": {},
   "outputs": [
    {
     "ename": "AttributeError",
     "evalue": "'list' object has no attribute 'shape'",
     "output_type": "error",
     "traceback": [
      "\u001b[0;31m---------------------------------------------------------------------------\u001b[0m",
      "\u001b[0;31mAttributeError\u001b[0m                            Traceback (most recent call last)",
      "\u001b[1;32m/data/lgy/Sync/GitHub/ZZZ/Notebooks/type_check_decorator/type_check_decorator.ipynb 单元格 3\u001b[0m line \u001b[0;36m7\n\u001b[1;32m      <a href='vscode-notebook-cell://ssh-remote%2Bedison1234-lgy/data/lgy/Sync/GitHub/ZZZ/Notebooks/type_check_decorator/type_check_decorator.ipynb#W1sdnNjb2RlLXJlbW90ZQ%3D%3D?line=4'>5</a>\u001b[0m a \u001b[39m=\u001b[39m np\u001b[39m.\u001b[39mrandom\u001b[39m.\u001b[39mrand(\u001b[39m3\u001b[39m, \u001b[39m3\u001b[39m)\n\u001b[1;32m      <a href='vscode-notebook-cell://ssh-remote%2Bedison1234-lgy/data/lgy/Sync/GitHub/ZZZ/Notebooks/type_check_decorator/type_check_decorator.ipynb#W1sdnNjb2RlLXJlbW90ZQ%3D%3D?line=5'>6</a>\u001b[0m b \u001b[39m=\u001b[39m np\u001b[39m.\u001b[39mrandom\u001b[39m.\u001b[39mrand(\u001b[39m5\u001b[39m, \u001b[39m3\u001b[39m)\n\u001b[0;32m----> <a href='vscode-notebook-cell://ssh-remote%2Bedison1234-lgy/data/lgy/Sync/GitHub/ZZZ/Notebooks/type_check_decorator/type_check_decorator.ipynb#W1sdnNjb2RlLXJlbW90ZQ%3D%3D?line=6'>7</a>\u001b[0m f(a), f(b), f(a\u001b[39m.\u001b[39;49mtolist())\n",
      "\u001b[1;32m/data/lgy/Sync/GitHub/ZZZ/Notebooks/type_check_decorator/type_check_decorator.ipynb 单元格 3\u001b[0m line \u001b[0;36m2\n\u001b[1;32m      <a href='vscode-notebook-cell://ssh-remote%2Bedison1234-lgy/data/lgy/Sync/GitHub/ZZZ/Notebooks/type_check_decorator/type_check_decorator.ipynb#W1sdnNjb2RlLXJlbW90ZQ%3D%3D?line=0'>1</a>\u001b[0m \u001b[39mdef\u001b[39;00m \u001b[39mf\u001b[39m(cell):\n\u001b[0;32m----> <a href='vscode-notebook-cell://ssh-remote%2Bedison1234-lgy/data/lgy/Sync/GitHub/ZZZ/Notebooks/type_check_decorator/type_check_decorator.ipynb#W1sdnNjb2RlLXJlbW90ZQ%3D%3D?line=1'>2</a>\u001b[0m     \u001b[39mreturn\u001b[39;00m cell\u001b[39m.\u001b[39;49mshape\n",
      "\u001b[0;31mAttributeError\u001b[0m: 'list' object has no attribute 'shape'"
     ]
    }
   ],
   "source": [
    "def f(cell):\n",
    "    return cell.shape\n",
    "\n",
    "\n",
    "a = np.random.rand(3, 3)\n",
    "b = np.random.rand(5, 3)\n",
    "f(a), f(b), f(a.tolist())\n"
   ]
  }
 ],
 "metadata": {
  "kernelspec": {
   "display_name": "base",
   "language": "python",
   "name": "python3"
  },
  "language_info": {
   "codemirror_mode": {
    "name": "ipython",
    "version": 3
   },
   "file_extension": ".py",
   "mimetype": "text/x-python",
   "name": "python",
   "nbconvert_exporter": "python",
   "pygments_lexer": "ipython3",
   "version": "3.11.5"
  },
  "orig_nbformat": 4
 },
 "nbformat": 4,
 "nbformat_minor": 2
}
